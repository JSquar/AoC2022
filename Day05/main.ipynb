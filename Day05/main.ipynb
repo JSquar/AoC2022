{
 "cells": [
  {
   "cell_type": "code",
   "execution_count": null,
   "id": "b8d2ce03-4a14-4d8d-ba52-481926fa29f8",
   "metadata": {},
   "outputs": [],
   "source": [
    "from pathlib import Path\n",
    "from collections import deque"
   ]
  },
  {
   "cell_type": "code",
   "execution_count": null,
   "id": "0c6b2b35-63c2-45f6-8fb8-a5a0cd589093",
   "metadata": {},
   "outputs": [],
   "source": [
    "def pretty_print(data, limit):\n",
    "    print(data)\n",
    "    for row in range(limit-1, -1, -1):\n",
    "        for column in range(len(data)):\n",
    "            try:\n",
    "                print(f\"{list(data[column])[row][:-1]} \", end = '')\n",
    "            except:                \n",
    "                print(\" -- \", end = '')\n",
    "        print(\"\")"
   ]
  },
  {
   "cell_type": "code",
   "execution_count": null,
   "id": "f317c0c0-a8da-4574-8158-69ed4ea88a79",
   "metadata": {},
   "outputs": [],
   "source": [
    "debug = False\n",
    "#inputfile = Path(\"input_small.txt\")\n",
    "inputfile = Path(\"input_big.txt\")\n",
    "\n",
    "fh = open(inputfile, \"r\")\n",
    "data = fh.readlines()\n",
    "fh.close()"
   ]
  },
  {
   "cell_type": "code",
   "execution_count": null,
   "id": "0f9682aa-6eee-4d90-b18f-3cd39dc4917c",
   "metadata": {},
   "outputs": [],
   "source": [
    "split_index = data.index(\"\\n\")\n",
    "towers = data[:split_index]\n",
    "movement_text = data[split_index + 1:]\n",
    "#columns = towers[-1].split()\n",
    "towers[-1]"
   ]
  },
  {
   "cell_type": "code",
   "execution_count": null,
   "id": "c6f5dfe0-1a68-4902-9c0b-8608006102ac",
   "metadata": {},
   "outputs": [],
   "source": [
    "data_stacks = []\n",
    "for i in range(int((len(towers[-1]) + 1) / 4)):\n",
    "    data_stacks.append(deque())\n",
    "    \n",
    "for row in range(len(towers)-2, -1, -1):\n",
    "    for column in range(int((len(towers[-1]) + 1) / 4)):\n",
    "        entry = towers[row][3*column+column:4*(column+1)]\n",
    "        if(entry[:3] != \" \"*3):\n",
    "            data_stacks[column].append(entry)\n",
    "            \n",
    "pretty_print(data_stacks, split_index)"
   ]
  },
  {
   "cell_type": "code",
   "execution_count": null,
   "id": "6fb1f383-0d34-49ef-b7a4-d219ff59a04e",
   "metadata": {},
   "outputs": [],
   "source": [
    "movement = [x.split() for x in movement_text]"
   ]
  },
  {
   "cell_type": "code",
   "execution_count": null,
   "id": "396f8e2f-e6bd-4bff-ac31-6ec15cb4b537",
   "metadata": {},
   "outputs": [],
   "source": [
    "# perform movement\n",
    "for index, action in enumerate(movement):\n",
    "    num_blocks = int(action[1])\n",
    "    from_column = int(action[3])-1\n",
    "    to_column = int(action[5])-1\n",
    "    for block in range(num_blocks):\n",
    "        if debug:\n",
    "            print(f\"Move {num_blocks} from {from_column} to {to_column}\")\n",
    "            print(pretty_print(data_stacks),split_index)\n",
    "        try:\n",
    "            current = data_stacks[from_column].pop()\n",
    "            data_stacks[to_column].append(current)\n",
    "        except Exception as e:\n",
    "            print(f\"Error on action index {index}\")\n",
    "            print(f\"Move {num_blocks} from {from_column} to {to_column}\")\n",
    "            pretty_print(data_stacks, split_index)\n",
    "            raise e\n",
    "        if debug:\n",
    "            print(pretty_print(data_stacks), split_index)\n",
    "pretty_print(data_stacks, 32)\n",
    "final_top = \"\"\n",
    "for i in data_stacks:\n",
    "    final_top+=i.pop()[1]\n",
    "print(f\"\\n{final_top}\")"
   ]
  },
  {
   "cell_type": "code",
   "execution_count": null,
   "id": "6d540ea9-0ded-4e4f-b065-05433db7398f",
   "metadata": {},
   "outputs": [],
   "source": []
  }
 ],
 "metadata": {
  "kernelspec": {
   "display_name": "Python 3 (ipykernel)",
   "language": "python",
   "name": "python3"
  },
  "language_info": {
   "codemirror_mode": {
    "name": "ipython",
    "version": 3
   },
   "file_extension": ".py",
   "mimetype": "text/x-python",
   "name": "python",
   "nbconvert_exporter": "python",
   "pygments_lexer": "ipython3",
   "version": "3.10.8"
  }
 },
 "nbformat": 4,
 "nbformat_minor": 5
}
