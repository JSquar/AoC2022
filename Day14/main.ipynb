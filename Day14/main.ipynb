{
 "cells": [
  {
   "cell_type": "code",
   "execution_count": null,
   "metadata": {},
   "outputs": [],
   "source": [
    "from pathlib import Path\n",
    "import logging\n",
    "import numpy as np\n",
    "\n",
    "logger = logging.getLogger()\n",
    "logging.basicConfig(level=logging.DEBUG)"
   ]
  },
  {
   "cell_type": "code",
   "execution_count": null,
   "metadata": {},
   "outputs": [],
   "source": [
    "inputfile = Path(\"input_small.txt\")\n",
    "#inputfile = Path(\"input_big.txt\")\n",
    "with open(inputfile) as fh:\n",
    "  coordinates = [[ [int(coordinate) for coordinate in coordinate_str.split(\",\")] for coordinate_str in line.split(\" -> \")] for line in fh.readlines()]\n",
    "coordinates"
   ]
  },
  {
   "cell_type": "code",
   "execution_count": null,
   "metadata": {},
   "outputs": [],
   "source": [
    "# determine size of field, to minimise \n",
    "first_coordinate = coordinates[0][0]\n",
    "boundaries_x = [first_coordinate[0], first_coordinate[0]]\n",
    "boundaries_y = [0, first_coordinate[1]]\n",
    "\n",
    "for coordinate_section in coordinates:\n",
    "  for coordinate in coordinate_section:\n",
    "    boundaries_x[0] = min(boundaries_x[0], coordinate[0])\n",
    "    boundaries_x[1] = max(boundaries_x[1], coordinate[0])\n",
    "    boundaries_y[1] = max(boundaries_y[1], coordinate[1])\n",
    "\n",
    "logger.debug(f\"Boundaries x: {boundaries_x}, boundaries y: {boundaries_y}\")\n",
    "field = np.ndarray((boundaries_x[1]-boundaries_x[0],boundaries_y[1]))\n",
    "logger.debug(f\"Field: {field.shape}\")"
   ]
  },
  {
   "cell_type": "code",
   "execution_count": null,
   "metadata": {},
   "outputs": [],
   "source": []
  }
 ],
 "metadata": {
  "kernelspec": {
   "display_name": "Python 3",
   "language": "python",
   "name": "python3"
  },
  "language_info": {
   "codemirror_mode": {
    "name": "ipython",
    "version": 3
   },
   "file_extension": ".py",
   "mimetype": "text/x-python",
   "name": "python",
   "nbconvert_exporter": "python",
   "pygments_lexer": "ipython3",
   "version": "3.10.8"
  },
  "vscode": {
   "interpreter": {
    "hash": "767d51c1340bd893661ea55ea3124f6de3c7a262a8b4abca0554b478b1e2ff90"
   }
  }
 },
 "nbformat": 4,
 "nbformat_minor": 2
}
