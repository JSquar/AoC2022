{
 "cells": [
  {
   "cell_type": "code",
   "execution_count": null,
   "id": "09e0c1bb-6288-41d8-92f9-de18ed277757",
   "metadata": {},
   "outputs": [],
   "source": [
    "from pathlib import Path\n",
    "import numpy as np\n",
    "import logging\n",
    "\n",
    "logging.basicConfig()\n",
    "logger = logging.getLogger(\"my_logger\")\n",
    "logger.setLevel(logging.INFO)"
   ]
  },
  {
   "cell_type": "code",
   "execution_count": null,
   "id": "a4d50efc-2365-414d-9db6-a20a9e0fbee4",
   "metadata": {},
   "outputs": [],
   "source": [
    "def get_new_tail_pos(head,tail):\n",
    "    diff_vec = tail-head\n",
    "    # distance big enough?\n",
    "    if np.max(np.abs(diff_vec)) <= 1:\n",
    "        return tail\n",
    "    assert np.max(np.abs(diff_vec)) <= 2\n",
    "    signs = np.sign(diff_vec)\n",
    "    logger.debug(f\"diff_vec: {diff_vec}\")\n",
    "    # calc new tail if diff vec is at least 2 in one component, otherwise both vecs are still touching\n",
    "    for index in [0,1]:\n",
    "        if(abs(diff_vec[index]) > 1):\n",
    "            diff_vec[index] = signs[index]\n",
    "    logger.debug(f\"diff_vec: {diff_vec}\")\n",
    "    return tail - diff_vec\n",
    "\n",
    "if logging.root.level <= logging.DEBUG:\n",
    "    assert np.array_equal(get_new_tail_pos(np.array([1,2]), np.array([0,0])), np.array([1,1]))\n",
    "    assert np.array_equal(get_new_tail_pos(np.array([2,1]), np.array([0,0])), np.array([1,1]))\n",
    "    assert np.array_equal(get_new_tail_pos(np.array([2,-1]), np.array([0,0])), np.array([1,-1]))\n",
    "    assert np.array_equal(get_new_tail_pos(np.array([1,-2]), np.array([0,0])), np.array([1,-1]))\n",
    "    assert np.array_equal(get_new_tail_pos(np.array([-1,-2]), np.array([0,0])), np.array([-1,-1]))\n",
    "    assert np.array_equal(get_new_tail_pos(np.array([-2,-1]), np.array([0,0])), np.array([-1,-1]))\n",
    "    assert np.array_equal(get_new_tail_pos(np.array([-2,1]), np.array([0,0])), np.array([-1,1]))\n",
    "    assert np.array_equal(get_new_tail_pos(np.array([-1,2]), np.array([0,0])), np.array([-1,1]))"
   ]
  },
  {
   "cell_type": "code",
   "execution_count": null,
   "id": "1be54609-59e5-4d48-b186-9d402326db15",
   "metadata": {},
   "outputs": [],
   "source": [
    "#num_knots = 2\n",
    "num_knots = 10\n",
    "#input_file=Path(\"input_small.txt\")\n",
    "#input_file=Path(\"input_medium.txt\")\n",
    "input_file=Path(\"input_big.txt\")\n",
    "assert input_file.exists()\n",
    "\n",
    "with open(input_file, \"r\") as fh:\n",
    "    lines = fh.readlines()"
   ]
  },
  {
   "cell_type": "code",
   "execution_count": null,
   "id": "cc10e985-6da9-4e1f-b7f1-b286f886d19c",
   "metadata": {},
   "outputs": [],
   "source": [
    "# ease handling of input data and replace direction letters with vectors\n",
    "directions = []\n",
    "for line in lines:\n",
    "    direction,factor=line.strip().split()\n",
    "    factor = int(factor)\n",
    "    if(direction == \"R\"):\n",
    "        direction = np.array([1,0])\n",
    "    elif(direction == \"L\"):\n",
    "        direction = np.array([-1,0])\n",
    "    elif(direction == \"U\"):\n",
    "        direction = np.array([0,1])\n",
    "    elif(direction == \"D\"):\n",
    "        direction = np.array([0,-1])\n",
    "    else:        \n",
    "        raise Exception(f\"Could not identify direction {direction}\")\n",
    "    directions.append((direction, factor))"
   ]
  },
  {
   "cell_type": "code",
   "execution_count": null,
   "id": "a4141370-21c4-4cc8-891d-348ef487e43d",
   "metadata": {},
   "outputs": [],
   "source": [
    "knots = [np.array([0,0])]\n",
    "for knot in range(num_knots-1):\n",
    "    knots.append(np.array([0,0]))\n",
    "visited_positions = [knots[-1][:]]\n",
    "\n",
    "for direction in directions:\n",
    "    for iteration in range(direction[1]):        \n",
    "        knots[0] = knots[0] + direction[0]\n",
    "        logger.debug(f\"Was:\\nfirst knot{knots[0]}\\nlast knot {knots[-1]}\")        \n",
    "        for index in range(1,num_knots):\n",
    "            knots[index] = get_new_tail_pos(knots[index-1], knots[index])\n",
    "        logger.debug(f\"Now:\\nfirst knot{knots[0]}\\nlast knot {knots[-1]}\\n\")\n",
    "        visited_positions.append(knots[-1][:])\n",
    "logger.info(f\"Visited positions: {len({tuple(position) for position in visited_positions})}\")"
   ]
  }
 ],
 "metadata": {
  "kernelspec": {
   "display_name": "Python 3 (ipykernel)",
   "language": "python",
   "name": "python3"
  },
  "language_info": {
   "codemirror_mode": {
    "name": "ipython",
    "version": 3
   },
   "file_extension": ".py",
   "mimetype": "text/x-python",
   "name": "python",
   "nbconvert_exporter": "python",
   "pygments_lexer": "ipython3",
   "version": "3.10.8"
  }
 },
 "nbformat": 4,
 "nbformat_minor": 5
}
