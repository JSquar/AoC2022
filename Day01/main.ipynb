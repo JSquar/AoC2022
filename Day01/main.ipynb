{
 "cells": [
  {
   "cell_type": "code",
   "execution_count": null,
   "id": "c20a1d18-9d68-4d1d-a170-6e6199a95432",
   "metadata": {},
   "outputs": [],
   "source": [
    "import heapq"
   ]
  },
  {
   "cell_type": "code",
   "execution_count": null,
   "id": "443a86b1-a421-49d9-9f00-03e07fb95931",
   "metadata": {},
   "outputs": [],
   "source": [
    "input_file = \"input_small.txt\"\n",
    "#input_file = \"input.txt\"\n",
    "#if \"INPUT\" in os.environ:\n",
    "#    input_file = os.environ[\"INPUT\"]"
   ]
  },
  {
   "cell_type": "code",
   "execution_count": null,
   "id": "057b8978-b6f1-478c-91f5-81d2236f796f",
   "metadata": {},
   "outputs": [],
   "source": [
    "# part 1\n",
    "calories_sum = 0\n",
    "max_calories = 0\n",
    "\n",
    "with open(input_file) as fh:\n",
    "    for current_line in fh:\n",
    "        #print(current_line)\n",
    "        if current_line == \"\\n\":\n",
    "            if max_calories < calories_sum:\n",
    "                max_calories = calories_sum\n",
    "            calories_sum = 0\n",
    "        else:\n",
    "            calories_sum += int(current_line)\n",
    "print(max_calories)"
   ]
  },
  {
   "cell_type": "code",
   "execution_count": null,
   "id": "c4bbc963-5240-4e3a-bc8e-6b0d0b587e03",
   "metadata": {},
   "outputs": [],
   "source": [
    "# part 2\n",
    "calories_sum = 0\n",
    "inventory = []\n",
    "with open(input_file) as fh:\n",
    "    for current_line in fh:\n",
    "        #print(current_line)\n",
    "        if current_line == \"\\n\":\n",
    "            inventory.append(calories_sum)\n",
    "            calories_sum = 0\n",
    "        else:\n",
    "            calories_sum += int(current_line)\n",
    "print(inventory)\n",
    "total_calories_3 = sum(heapq.nlargest(3, inventory))\n",
    "print(heapq.nlargest(3, inventory))\n",
    "print(total_calories_3)"
   ]
  }
 ],
 "metadata": {
  "kernelspec": {
   "display_name": "Python 3 (ipykernel)",
   "language": "python",
   "name": "python3"
  },
  "language_info": {
   "codemirror_mode": {
    "name": "ipython",
    "version": 3
   },
   "file_extension": ".py",
   "mimetype": "text/x-python",
   "name": "python",
   "nbconvert_exporter": "python",
   "pygments_lexer": "ipython3",
   "version": "3.10.7"
  }
 },
 "nbformat": 4,
 "nbformat_minor": 5
}
