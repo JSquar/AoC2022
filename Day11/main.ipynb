{
 "cells": [
  {
   "cell_type": "code",
   "execution_count": null,
   "metadata": {},
   "outputs": [],
   "source": [
    "import logging\n",
    "from pathlib import Path\n",
    "import re\n",
    "import numpy as np\n",
    "import math\n",
    "\n",
    "logging.basicConfig(format='%(message)s')\n",
    "logger = logging.getLogger()\n",
    "logger.setLevel(logging.INFO)"
   ]
  },
  {
   "cell_type": "code",
   "execution_count": null,
   "metadata": {},
   "outputs": [],
   "source": [
    "#inputfile = Path(\"input_small.txt\")\n",
    "inputfile = Path(\"input_big.txt\")\n",
    "partB=True\n",
    "with open(inputfile, \"r\") as fh:\n",
    "  lines = [line.strip() for line in fh.readlines()]"
   ]
  },
  {
   "cell_type": "code",
   "execution_count": null,
   "metadata": {},
   "outputs": [],
   "source": [
    "assert (len(lines) + 1) % 4 == 0, f\"len(lines) ({len(lines)}) must be divisible by 7\"\n",
    "rules = {}\n",
    "regex = re.compile(r\"Monkey (?P<Monkey_start>\\d+): Starting items: (?P<items>(?:\\d+,?\\s?)+)Operation: new = (?P<operation>old (?:\\+|\\*|-|/) \\w+) Test: divisible by (?P<divisor>\\d+) If true: throw to monkey (?P<Monkey_target_true>\\d+) If false: throw to monkey (?P<Monkey_target_false>\\d+)\")\n",
    "\n",
    "for index in range(int((len(lines) + 1) / 7)):\n",
    "  single_line = \" \".join(lines[index*7 : index* 7 + 6])\n",
    "  matches = regex.match(single_line)\n",
    "  assert matches, f\"No match found on line {single_line}\"\n",
    "\n",
    "  rules[int(matches.group(\"Monkey_start\"))] = {\"items\": [int(item.strip()) for item in matches.group(\"items\").split(\",\")], \"op\" : matches.group(\"operation\"), \"divisor\": int(matches.group(\"divisor\")), \"targets\": (int(matches.group(\"Monkey_target_true\")), int(matches.group(\"Monkey_target_false\")))}\n",
    "  \n",
    "  rules[int(matches.group(\"Monkey_start\"))][\"inspection_count\"] = 0\n",
    "\n",
    "# had to look for tips for stress relief, was inspired by this solution: https://www.reddit.com/r/adventofcode/comments/zifqmh/comment/j002ro0/?utm_source=share&utm_medium=web2x&context=3\n",
    "stress_relief = math.prod([rules[monkey][\"divisor\"] for monkey in rules])\n",
    "logger.debug(f\"Stress relief factor is {stress_relief}\")\n",
    "\n",
    "end_range = 20 if not partB else 10000\n",
    "for round in range(1,end_range+1):\n",
    "  for monkey in range(len(rules)):\n",
    "    logger.debug(f\"Monkey {monkey}\")\n",
    "    while len(rules[monkey][\"items\"]) > 0:\n",
    "      # 1. inspect\n",
    "      rules[monkey][\"inspection_count\"] += 1\n",
    "      old = rules[monkey][\"items\"].pop(0)\n",
    "      if not partB:\n",
    "        logger.debug(f\"  Monkey inspects an item with a worry level of {old}\")\n",
    "      \n",
    "      # 2. Increase worry level\n",
    "      \n",
    "      summands = rules[monkey][\"op\"].split()            \n",
    "      if summands[2] == \"old\":\n",
    "        summand2 = old\n",
    "      else:\n",
    "        summand2 = int(summands[2])      \n",
    "      new = np.add(old, summand2) if summands[1] == \"+\" else np.multiply(old, summand2)\n",
    "      \n",
    "      if not partB:\n",
    "        logger.debug(f\"  Worry level is changed to {new}\")\n",
    "      \n",
    "      # 3. Decrease worry level (disable for part B)\n",
    "      if not partB:\n",
    "        new = int(new // 3)\n",
    "        logger.debug(f\"  Worry level is divided by 3 to {new}\")\n",
    "      else:\n",
    "        new = new % stress_relief\n",
    "      \n",
    "      # 4. Pass item to different monkey\n",
    "      if new % rules[monkey][\"divisor\"] == 0:\n",
    "        target = rules[monkey][\"targets\"][0]\n",
    "      else:\n",
    "        target = rules[monkey][\"targets\"][1]      \n",
    "      rules[target][\"items\"].append(new)\n",
    "      if not partB:\n",
    "        logger.debug(f\"  Item {new} is passed to monkey {target}\")\n",
    "      assert rules[target][\"items\"][-1] == new\n",
    "  if round in [1,20] + list(range(1000,11000,1000)):\n",
    "    inspection_counts = [rules[index][\"inspection_count\"] for index in range(len(rules))]    \n",
    "    logger.info(f\"After {round} rounds\")\n",
    "    for index in range(len(rules)):\n",
    "      logger.info(f\"Monkey {index} inspected items {inspection_counts[index]} times.\")\n",
    "    \n"
   ]
  },
  {
   "cell_type": "code",
   "execution_count": null,
   "metadata": {},
   "outputs": [],
   "source": [
    "inspection_counts = [rules[index][\"inspection_count\"] for index in range(len(rules))]\n",
    "inspection_counts.sort()\n",
    "monkey_business = inspection_counts[-1]*inspection_counts[-2]\n",
    "print(monkey_business)"
   ]
  },
  {
   "cell_type": "code",
   "execution_count": null,
   "metadata": {},
   "outputs": [],
   "source": []
  }
 ],
 "metadata": {
  "kernelspec": {
   "display_name": "Python 3",
   "language": "python",
   "name": "python3"
  },
  "language_info": {
   "codemirror_mode": {
    "name": "ipython",
    "version": 3
   },
   "file_extension": ".py",
   "mimetype": "text/x-python",
   "name": "python",
   "nbconvert_exporter": "python",
   "pygments_lexer": "ipython3",
   "version": "3.10.8"
  },
  "vscode": {
   "interpreter": {
    "hash": "767d51c1340bd893661ea55ea3124f6de3c7a262a8b4abca0554b478b1e2ff90"
   }
  }
 },
 "nbformat": 4,
 "nbformat_minor": 2
}
