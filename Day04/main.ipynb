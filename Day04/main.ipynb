{
 "cells": [
  {
   "cell_type": "code",
   "execution_count": null,
   "id": "de9c4eaa-217e-4739-85a2-fbd0b2bd0434",
   "metadata": {},
   "outputs": [],
   "source": [
    "from pathlib import Path"
   ]
  },
  {
   "cell_type": "code",
   "execution_count": null,
   "id": "36fb753e-9897-4746-bf3a-226564cc8487",
   "metadata": {},
   "outputs": [],
   "source": [
    "debug = False\n",
    "#inputfile = Path(\"input_small.txt\")\n",
    "inputfile = Path(\"input_big.txt\")\n",
    "with open(inputfile) as fh:\n",
    "    lines = fh.readlines()"
   ]
  },
  {
   "cell_type": "code",
   "execution_count": null,
   "id": "2b5995cb-7df7-4a2b-9c79-1b049802699f",
   "metadata": {},
   "outputs": [],
   "source": [
    "def is_included_complete(line):\n",
    "    elf_a, elf_b = line.split(\",\")\n",
    "    elf_a_limits = elf_a.split(\"-\")\n",
    "    elf_b_limits = elf_b.split(\"-\")\n",
    "    if(elf_b_limits[1][-1] == \"\\n\"):        \n",
    "        elf_b_limits[1] = elf_b_limits[1][:-1]\n",
    "        pass\n",
    "    if(debug):\n",
    "        print(f\"elf a: {elf_a_limits[0]} - {elf_a_limits[1]}\")\n",
    "        print(f\"elf a: {elf_b_limits[0]} - {elf_b_limits[1]}\")\n",
    "    # elf a included in elf b?\n",
    "    if(int(elf_a_limits[0]) >= int(elf_b_limits[0]) and int(elf_a_limits[1]) <= int(elf_b_limits[1])):\n",
    "        if(debug):\n",
    "            print(f\"elf a is included in elf b\")\n",
    "        return True\n",
    "    if(int(elf_b_limits[0]) >= int(elf_a_limits[0]) and int(elf_b_limits[1]) <= int(elf_a_limits[1])):\n",
    "        if(debug):\n",
    "            print(\"elf b is included in elf a\")\n",
    "        return True\n",
    "    return False\n",
    "    "
   ]
  },
  {
   "cell_type": "code",
   "execution_count": null,
   "id": "bcdae4dd-bbaa-4681-9617-edb76ff082a0",
   "metadata": {},
   "outputs": [],
   "source": [
    "def is_included_partially(line):\n",
    "    elf_a, elf_b = line.split(\",\")\n",
    "    elf_a_limits = elf_a.split(\"-\")\n",
    "    elf_b_limits = elf_b.split(\"-\")\n",
    "    if(elf_b_limits[1][-1] == \"\\n\"):        \n",
    "        elf_b_limits[1] = elf_b_limits[1][:-1]\n",
    "        pass\n",
    "    if(debug):\n",
    "        print(f\"elf a: {elf_a_limits[0]} - {elf_a_limits[1]}\")\n",
    "        print(f\"elf a: {elf_b_limits[0]} - {elf_b_limits[1]}\")\n",
    "    # elf a included in elf b?\n",
    "    return len(set(range(int(elf_a_limits[0]), int(elf_a_limits[1])+1)).intersection(range(int(elf_b_limits[0]), int(elf_b_limits[1])+1))) != 0\n",
    "    "
   ]
  },
  {
   "cell_type": "code",
   "execution_count": null,
   "id": "db6e9f74-41ba-4443-8d86-f07309d0e0f8",
   "metadata": {},
   "outputs": [],
   "source": [
    "sum_included = 0\n",
    "for line in lines:\n",
    "    sum_included += is_included_complete(line)\n",
    "print(sum_included)"
   ]
  },
  {
   "cell_type": "code",
   "execution_count": null,
   "id": "2fabeafc-4e95-4366-9ae6-9472d07acf72",
   "metadata": {},
   "outputs": [],
   "source": [
    "sum_included = 0\n",
    "for line in lines:\n",
    "    sum_included += is_included_partially(line)\n",
    "print(sum_included)"
   ]
  },
  {
   "cell_type": "code",
   "execution_count": null,
   "id": "415541ff-6187-42d1-b853-958cbc8f3e89",
   "metadata": {},
   "outputs": [],
   "source": []
  }
 ],
 "metadata": {
  "kernelspec": {
   "display_name": "Python 3 (ipykernel)",
   "language": "python",
   "name": "python3"
  },
  "language_info": {
   "codemirror_mode": {
    "name": "ipython",
    "version": 3
   },
   "file_extension": ".py",
   "mimetype": "text/x-python",
   "name": "python",
   "nbconvert_exporter": "python",
   "pygments_lexer": "ipython3",
   "version": "3.10.8"
  }
 },
 "nbformat": 4,
 "nbformat_minor": 5
}
