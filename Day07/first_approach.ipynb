{
 "cells": [
  {
   "cell_type": "code",
   "execution_count": null,
   "id": "339b0488-c287-411c-9187-b328752ce4fb",
   "metadata": {},
   "outputs": [],
   "source": [
    "from treelib import Tree\n",
    "from pathlib import Path"
   ]
  },
  {
   "cell_type": "code",
   "execution_count": null,
   "id": "ddd5c71d-b6c3-40e3-8c93-08237a097c0c",
   "metadata": {},
   "outputs": [],
   "source": [
    "class Prop(dict):\n",
    "    def __init__(self, file_type, weight): \n",
    "        dict.__init__(self, file_type=file_type, weight=weight)\n",
    "        self.file_type = file_type\n",
    "        self.weight = int(weight)\n",
    "        \n",
    "    def __add__(self, number):\n",
    "        if type(number) == int or type(number) == str:\n",
    "            return Prop(self.file_type, self.weight + int(number))\n",
    "        else:\n",
    "            return Prop(self.file_type, self.weight + number.weight)"
   ]
  },
  {
   "cell_type": "code",
   "execution_count": null,
   "id": "1e2e172c-dc8c-4289-af22-1ad83269e489",
   "metadata": {},
   "outputs": [],
   "source": [
    "def get_node(tree, current_node, id):\n",
    "    print(f\"current_node: {current_node}\")\n",
    "    print(f\"root_node: {tree.root}\")\n",
    "    if tree.get_node(tree.root) == current_node:\n",
    "        print(\"Return root node\")\n",
    "        return tree.get_node(tree.root)\n",
    "    print(f\"Return {current_node.identifier}/{id}\")\n",
    "    return tree.get_node(f\"{current_node.identifier}/{id}\")"
   ]
  },
  {
   "cell_type": "code",
   "execution_count": null,
   "id": "3ca851e9-6bf3-4e54-8c2a-67931fbe1a77",
   "metadata": {},
   "outputs": [],
   "source": [
    "debug = True\n",
    "#input_file = Path(\"input_small.txt\")\n",
    "input_file = Path(\"test.txt\")\n",
    "\n",
    "with open(input_file, \"r\") as fh:\n",
    "    lines = fh.readlines()\n",
    "    lines = [line.strip() for line in lines]"
   ]
  },
  {
   "cell_type": "code",
   "execution_count": null,
   "id": "4b8ef0f9-6883-430a-abef-52944451b3d9",
   "metadata": {},
   "outputs": [],
   "source": [
    "# go trough file and build initial tree\n",
    "tree = Tree()\n",
    "tree.create_node(\"Root\", \"/\", data=Prop(\"dir\", \"0\"))\n",
    "root_node = tree.get_node(\"/\")\n",
    "current_node = root_node\n",
    "\n",
    "for index in range(len(lines)):\n",
    "    current_line = lines[index].split()\n",
    "    # user input\n",
    "    if current_line[0] == \"$\":\n",
    "        # ls command\n",
    "        if len(current_line) == 2:\n",
    "            # go through ls output\n",
    "            while(index+1 < len(lines) and lines[index + 1].split()[0] != \"$\"):\n",
    "                print(f\"3: {current_node}\")\n",
    "                ls_line = lines[index + 1].split()\n",
    "                if not tree.contains(ls_line[1]):\n",
    "                    #print(f\"Warning: Tree already contains node {ls_line[1]}\")\n",
    "                    if ls_line[0].startswith(\"dir\"):\n",
    "                        if debug:\n",
    "                            print(f\"Add dir {ls_line[1]} to tree after ls\")\n",
    "                        tree.create_node(f\"dir {current_node.identifier}/{ls_line[1]}\", f\"{current_node.identifier}/{ls_line[1]}\", data = Prop(\"dir\", 0), parent=current_node.identifier)\n",
    "                    else:\n",
    "                        tree.create_node(f\"file {current_node.identifier}/{ls_line[1]}\", f\"{current_node.identifier}/{ls_line[1]}\", data = Prop(\"file\", int(ls_line[0])), parent=current_node.identifier)\n",
    "                        if debug:\n",
    "                            print(f\"Add file {ls_line[1]} to tree\")\n",
    "                index+=1\n",
    "        # cd command\n",
    "        elif len(current_line) == 3:\n",
    "            if current_line[2] == \"..\":\n",
    "                try:                    \n",
    "                    if(current_node != root_node):\n",
    "                        current_node = tree.parent(current_node.identifier)                    \n",
    "                        print(f\"2: {current_node}\")\n",
    "                except:\n",
    "                    print(current_line)\n",
    "                    print(current_node)\n",
    "                    print(index)\n",
    "                    tree.show()\n",
    "                    raise\n",
    "            else:\n",
    "                print(\"Problem?\")\n",
    "                if not tree.contains(f\"{current_node.identifier}/{current_line[2]}\"):\n",
    "                    tree.create_node(f\"dir {current_node.identifier}/{current_line[2]}\", f\"{current_node.identifier}/{current_line[2]}\", data = Prop(\"dir\", 0), parent=current_node.identifier)\n",
    "                    if debug:\n",
    "                        print(f\"Add dir {ls_line[1]} to tree after cd\")\n",
    "                print(f\"0: {current_node}\")\n",
    "                print(f\"Look for {current_node.identifier}/{current_line[2]}\")\n",
    "                current_node = get_node(tree,current_node, current_line[2])\n",
    "                print(f\"1: {current_node}\")\n",
    "            if debug:\n",
    "                print(f\"Current node after {current_line}: {current_node}\")"
   ]
  },
  {
   "cell_type": "code",
   "execution_count": null,
   "id": "3e3026e0-391e-4a1b-8275-f21376be72b5",
   "metadata": {},
   "outputs": [],
   "source": []
  },
  {
   "cell_type": "code",
   "execution_count": null,
   "id": "9827fc90-700f-4f19-8b55-5423a335c3ea",
   "metadata": {},
   "outputs": [],
   "source": [
    "# update tree weights\n",
    "traversal_list = tree.paths_to_leaves()\n",
    "#print(traversal_list)\n",
    "\n",
    "for traversal in traversal_list:\n",
    "    weight = tree.get_node(traversal[-1]).data\n",
    "    if debug:\n",
    "        print(f\"Current traversal {traversal}\")\n",
    "    for index in range(len(traversal)-2,-1,-1):        \n",
    "        tree.get_node(traversal[index]).data += weight"
   ]
  },
  {
   "cell_type": "code",
   "execution_count": null,
   "id": "8f106e5b-49f7-4afc-800e-0126ad8f693b",
   "metadata": {},
   "outputs": [],
   "source": [
    "print(tree.get_node(\"/\").data.weight)"
   ]
  },
  {
   "cell_type": "code",
   "execution_count": null,
   "id": "6afa0713-7be5-4aec-b583-9c9efb53dbc1",
   "metadata": {},
   "outputs": [],
   "source": [
    "# look for directorys with size <= 100000\n",
    "acc_size = 0\n",
    "for node_str in tree.expand_tree():\n",
    "    current_node = tree.get_node(node_str)\n",
    "    if current_node.data.file_type == \"dir\" and current_node.data.weight <= 100000:\n",
    "        if debug:\n",
    "            print(f\"Add weight {current_node.data.weight} from node {current_node}\")\n",
    "        acc_size += current_node.data.weight\n",
    "\n",
    "print(acc_size)"
   ]
  },
  {
   "cell_type": "code",
   "execution_count": null,
   "id": "c8a94e6c-3061-451f-a587-045361f1afa0",
   "metadata": {},
   "outputs": [],
   "source": [
    "tree.to_json(with_data=True)\n",
    "fh = open(\"test.json\", \"w\")\n",
    "fh.write(tree.to_json(with_data=True))\n",
    "fh.close()"
   ]
  },
  {
   "cell_type": "code",
   "execution_count": null,
   "id": "7dad8dd2-435c-4487-b7fb-c728e3fec9ba",
   "metadata": {},
   "outputs": [],
   "source": [
    "start_node = tree.get_node(\"/\")"
   ]
  },
  {
   "cell_type": "code",
   "execution_count": null,
   "id": "7f2040b2-550d-4811-9ac4-aa904e4fbe5b",
   "metadata": {},
   "outputs": [],
   "source": [
    "tree.paths_to_leaves()\n",
    "#3350357"
   ]
  },
  {
   "cell_type": "code",
   "execution_count": null,
   "id": "ce6ebd26-24d6-4056-a6df-eafc413decbd",
   "metadata": {},
   "outputs": [],
   "source": [
    "tree.get_node(\"lwshph\")\n",
    "tree.create_node?"
   ]
  },
  {
   "cell_type": "code",
   "execution_count": null,
   "id": "a90d575b-c97c-471c-9d39-a7618080b0c3",
   "metadata": {},
   "outputs": [],
   "source": []
  },
  {
   "cell_type": "code",
   "execution_count": null,
   "id": "1aad3ac9-3a26-4c21-b543-245595844ff7",
   "metadata": {},
   "outputs": [],
   "source": [
    "tree2 = Tree()\n",
    "tree2.create_node(\"root tag\", \"root id\")\n",
    "tree2.create_node(\"child 1 tag\", \"child 1 id\", parent=\"root id\")\n",
    "tree2.get_node(\"child 1 id\")"
   ]
  },
  {
   "cell_type": "code",
   "execution_count": null,
   "id": "aa019d7b-e924-4dab-b743-30ec078baabe",
   "metadata": {},
   "outputs": [],
   "source": [
    "tree2.show()"
   ]
  },
  {
   "cell_type": "code",
   "execution_count": null,
   "id": "5b58f1ac-a144-427d-a4a8-a854bc6b9685",
   "metadata": {},
   "outputs": [],
   "source": [
    "tree.get_node?"
   ]
  },
  {
   "cell_type": "code",
   "execution_count": null,
   "id": "c5ffa926-1dc1-41c2-b513-b41d2a0f1272",
   "metadata": {},
   "outputs": [],
   "source": [
    "tree.show()"
   ]
  },
  {
   "cell_type": "code",
   "execution_count": null,
   "id": "88eecf6d-998f-4c1f-b8e1-410a56b78c4a",
   "metadata": {},
   "outputs": [],
   "source": []
  }
 ],
 "metadata": {
  "kernelspec": {
   "display_name": "Python 3 (ipykernel)",
   "language": "python",
   "name": "python3"
  },
  "language_info": {
   "codemirror_mode": {
    "name": "ipython",
    "version": 3
   },
   "file_extension": ".py",
   "mimetype": "text/x-python",
   "name": "python",
   "nbconvert_exporter": "python",
   "pygments_lexer": "ipython3",
   "version": "3.10.8"
  }
 },
 "nbformat": 4,
 "nbformat_minor": 5
}
