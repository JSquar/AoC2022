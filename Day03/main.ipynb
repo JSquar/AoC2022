{
 "cells": [
  {
   "cell_type": "code",
   "execution_count": null,
   "id": "014c17c6-d710-4948-a6e9-a0d584119449",
   "metadata": {},
   "outputs": [],
   "source": [
    "from pathlib import Path"
   ]
  },
  {
   "cell_type": "code",
   "execution_count": null,
   "id": "47631324-453d-49fb-9cc9-19dd4d0566d4",
   "metadata": {},
   "outputs": [],
   "source": [
    "debug=True\n",
    "input=Path(\"input_small.txt\")\n",
    "#input=Path(\"input_big.txt\")\n",
    "assert input.exists()"
   ]
  },
  {
   "cell_type": "code",
   "execution_count": null,
   "id": "0f3aeb9f-4212-4740-8153-0788e9b3166d",
   "metadata": {},
   "outputs": [],
   "source": [
    "def divide(line):\n",
    "    part_a = line[:int(len(line)/2)]\n",
    "    part_b = line[int(len(line)/2):-1]\n",
    "    if(debug):\n",
    "        print(f\"part_a: {part_a}\")\n",
    "        print(f\"part_b: {part_b}\")\n",
    "    part_a_sorted = sorted(part_a)\n",
    "    part_b_sorted = sorted(part_b)\n",
    "    if(debug):\n",
    "        print(f\"part_a_sorted: {part_a_sorted}\")\n",
    "        print(f\"part_b_sorted: {part_b_sorted}\")\n",
    "    return part_a_sorted, part_b_sorted"
   ]
  },
  {
   "cell_type": "code",
   "execution_count": null,
   "id": "344f1b58-7f87-4e44-9770-bb8e19f1ff13",
   "metadata": {},
   "outputs": [],
   "source": [
    "def get_duplicates(list_a, list_b):\n",
    "    print(f\"Input:\")\n",
    "    print(f\"list_a: {list_a}\")\n",
    "    print(f\"list_b: {list_b}\")\n",
    "    # iterate over both lists and check for duplicates\n",
    "    index_a = 0\n",
    "    index_b = 0    \n",
    "    duplicates = []\n",
    "    while(index_a < len(list_a) and index_b < len(list_b)):\n",
    "        last_a = list_a[index_a]\n",
    "        last_b = list_b[index_b]\n",
    "        if(debug):\n",
    "            if(index_a + 1 < len(list_a)):\n",
    "                print(f\"index_a: {index_a}, last_a: {last_a}, next_a: {list_a[index_a+1]}\")\n",
    "            else:\n",
    "                print(f\"index_a: {index_a}, last_a: {last_a}\")\n",
    "            if(index_b + 1 < len(list_b)):\n",
    "                print(f\"index_b: {index_b}, last_b: {last_b}, next_b: {list_b[index_b+1]}\")\n",
    "            else:\n",
    "                print(f\"index_b: {index_b}, last_b: {last_b}\")\n",
    "        if(last_a == last_b):\n",
    "            duplicates.append(last_a)\n",
    "        if(last_a < last_b):\n",
    "            if(debug):\n",
    "                print(\"Increase index_a by one\")\n",
    "            index_a += 1\n",
    "        else:\n",
    "            if(debug):\n",
    "                print(\"Increase index_b by one\")\n",
    "            index_b += 1\n",
    "    return duplicates"
   ]
  },
  {
   "cell_type": "code",
   "execution_count": null,
   "id": "844c4901-09aa-43ca-9965-18ddaa3919ba",
   "metadata": {},
   "outputs": [],
   "source": [
    "def get_priority(letter):\n",
    "        prio = ord(letter) - ord(\"a\") + 1\n",
    "        if prio < 0:\n",
    "            prio += 27 - (ord(\"A\")-ord('a')) - 1\n",
    "        return prio"
   ]
  },
  {
   "cell_type": "code",
   "execution_count": null,
   "id": "5f899a32-e303-4621-aeaa-120cfa6a36fe",
   "metadata": {},
   "outputs": [],
   "source": [
    "# PART A\n",
    "# divide and conquer and sort\n",
    "priority_sum = 0\n",
    "with open(input) as fh:\n",
    "    line = fh.readline()\n",
    "    while(line):\n",
    "        list_a, list_b = divide(line)\n",
    "        letter = get_duplicates(list_a, list_b)\n",
    "        priority = get_priority(letter[0])\n",
    "        priority_sum += priority\n",
    "        line = fh.readline()\n",
    "\n",
    "print(priority_sum)    "
   ]
  },
  {
   "cell_type": "code",
   "execution_count": null,
   "id": "0cfcbd16-6075-4ae5-8332-c8d912ec381d",
   "metadata": {},
   "outputs": [],
   "source": [
    "# PART B\n",
    "# concat all lines with each other an get all three combinations: 1-2, 1-3, 2-3\n",
    "# checking each combination may return several letters, which could be the badge\n",
    "# but the real badge only appears in all three subsets, which can be found via an intersection\n",
    "priority_sum = 0\n",
    "with open(input) as fh:\n",
    "    line_a = fh.readline()\n",
    "    line_b = fh.readline()\n",
    "    line_c = fh.readline()\n",
    "    while(line_a):\n",
    "        letters_ab = get_duplicates(sorted(line_a[:-1]), sorted(line_b[:-1]))\n",
    "        letters_ac = get_duplicates(sorted(line_a[:-1]), sorted(line_c[:-1]))\n",
    "        letters_bc = get_duplicates(sorted(line_b[:-1]), sorted(line_c[:-1]))\n",
    "        if(debug):\n",
    "            print(f\"letters_ab: {letters_ab}\")\n",
    "            print(f\"letters_ac: {letters_ac}\")\n",
    "            print(f\"letters_bc: {letters_bc}\")\n",
    "        intersection_letter = list(set(letters_ab) & set(letters_ac) & set(letters_bc))[0]\n",
    "        priority_sum += get_priority(intersection_letter)\n",
    "        \n",
    "        line_a = fh.readline()\n",
    "        line_b = fh.readline()\n",
    "        line_c = fh.readline()"
   ]
  },
  {
   "cell_type": "code",
   "execution_count": null,
   "id": "420c9a60-2baa-465e-9a71-4c57e04b8a52",
   "metadata": {},
   "outputs": [],
   "source": []
  }
 ],
 "metadata": {
  "kernelspec": {
   "display_name": "Python 3 (ipykernel)",
   "language": "python",
   "name": "python3"
  },
  "language_info": {
   "codemirror_mode": {
    "name": "ipython",
    "version": 3
   },
   "file_extension": ".py",
   "mimetype": "text/x-python",
   "name": "python",
   "nbconvert_exporter": "python",
   "pygments_lexer": "ipython3",
   "version": "3.10.8"
  }
 },
 "nbformat": 4,
 "nbformat_minor": 5
}
