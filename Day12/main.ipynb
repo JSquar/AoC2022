{
 "cells": [
  {
   "cell_type": "code",
   "execution_count": null,
   "id": "50fea7bb-3f34-485e-ae3e-d2be36151e42",
   "metadata": {},
   "outputs": [],
   "source": [
    "from pathlib import Path\n",
    "import logging\n",
    "import numpy as np\n",
    "\n",
    "logger = logging.getLogger()\n",
    "logger.setLevel(logging.DEBUG)\n",
    "logging.basicConfig()"
   ]
  },
  {
   "cell_type": "code",
   "execution_count": null,
   "id": "e924e63e-3181-4770-85eb-5b43410a75b0",
   "metadata": {},
   "outputs": [],
   "source": [
    "inputfile = Path(\"input_small.txt\")\n",
    "#inputfile = Path(\"input_big.txt\")\n",
    "with open(inputfile, \"r\") as fh:\n",
    "    lines= [line.strip() for line in fh.readlines()]\n",
    "\n",
    "arr = np.ndarray((len(lines),len(lines[0])))\n",
    "for index_row, row in enumerate(lines):\n",
    "    for index_col, col in enumerate(row):                \n",
    "        if col == \"S\":\n",
    "            pos_start = (index_row,index_col)\n",
    "            arr[index_row,index_col] = ord(\"a\")\n",
    "            logger.debug(f\"Start position: {pos_start}\")\n",
    "        elif col == \"E\":\n",
    "            pos_end = (index_row,index_col)\n",
    "            arr[index_row][index_col] = ord(\"z\")\n",
    "            logger.debug(f\"End position: {pos_end}\")\n",
    "        else:\n",
    "            arr[index_row][index_col] = ord(col)"
   ]
  },
  {
   "cell_type": "code",
   "execution_count": null,
   "id": "5a3cd9f2-abe8-4789-a984-f96376cd414d",
   "metadata": {},
   "outputs": [],
   "source": [
    "def make_step(current_position, direction):    \n",
    "    new_position = current_position + direction\n",
    "    logger.debug(f\"Current position {current_position}, direction {direction} would result in new position {new_position}\")\n",
    "    if np.min(new_position) < 0:\n",
    "        return None\n",
    "    if new_position[0] > current_position.shape[0] or new_position[1] > current_position.shape[1]:\n",
    "        return None\n",
    "    if arr[new_position] - arr[current_position] <= 1:\n",
    "        return new_position"
   ]
  },
  {
   "cell_type": "code",
   "execution_count": null,
   "id": "961b6e29-b45a-4c14-b0c9-cb05c55e07a3",
   "metadata": {},
   "outputs": [],
   "source": [
    "def traverse(current_position):\n",
    "    # each dictionary contains only a single list...should I have implemented it via a tuple??\n",
    "    new_positions = next(iter(current_position.values()))\n",
    "    for direction in directions:\n",
    "        new_position = make_step(current_position, direction)\n",
    "        if new_position:\n",
    "            depth = contains(root, new_position, 0)\n",
    "            if depth != -1:\n",
    "                new_positions.append({(new_position,depth): []})\n",
    "            \n",
    "            "
   ]
  },
  {
   "cell_type": "code",
   "execution_count": null,
   "id": "f51bf26b-e95d-4441-bf3f-062d1990cc0a",
   "metadata": {},
   "outputs": [],
   "source": [
    "def contains(root, search, depth):\n",
    "    for list_element in root:\n",
    "        print(f\"list_element: {list_element}\")\n",
    "        if list_element[0] == search:\n",
    "            if depth < list_element[1]:                \n",
    "                # it is already there but the already existing path is longer\n",
    "                return depth\n",
    "            else:\n",
    "                return -1\n",
    "        for new_root in root[list_element]:\n",
    "            return contains(new_root, search, depth + 1)\n",
    "    return depth"
   ]
  },
  {
   "cell_type": "code",
   "execution_count": null,
   "id": "d82631a5-b26f-4da8-9c1e-9b77fdbdcdbd",
   "metadata": {},
   "outputs": [],
   "source": [
    "# Part A\n",
    "directions = (np.array([1,0]),np.array([0,1]),np.array([-1,0]),np.array([0,-1]))\n",
    "root = {(pos_start,0): []}\n",
    "\n"
   ]
  },
  {
   "cell_type": "code",
   "execution_count": null,
   "id": "e4262442-5548-4872-a9c7-372741dc68a7",
   "metadata": {},
   "outputs": [],
   "source": []
  }
 ],
 "metadata": {
  "kernelspec": {
   "display_name": "Python 3 (ipykernel)",
   "language": "python",
   "name": "python3"
  },
  "language_info": {
   "codemirror_mode": {
    "name": "ipython",
    "version": 3
   },
   "file_extension": ".py",
   "mimetype": "text/x-python",
   "name": "python",
   "nbconvert_exporter": "python",
   "pygments_lexer": "ipython3",
   "version": "3.10.8"
  }
 },
 "nbformat": 4,
 "nbformat_minor": 5
}
