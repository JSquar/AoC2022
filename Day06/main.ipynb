{
 "cells": [
  {
   "cell_type": "code",
   "execution_count": 1,
   "id": "28e56243-051d-48cb-bcf8-ce8751196f28",
   "metadata": {},
   "outputs": [],
   "source": [
    "from pathlib import Path"
   ]
  },
  {
   "cell_type": "code",
   "execution_count": 23,
   "id": "7229013b-4ccb-463e-9f91-4b1fe50eea94",
   "metadata": {},
   "outputs": [],
   "source": [
    "debug = False\n",
    "input_file = Path(\"input_small.txt\")\n",
    "#input_file = Path(\"input_big.txt\")"
   ]
  },
  {
   "cell_type": "code",
   "execution_count": 24,
   "id": "722e9b0e-cc8f-4625-891a-96b0dd134b60",
   "metadata": {},
   "outputs": [],
   "source": [
    "with open(input_file, \"r\") as fh:\n",
    "    lines = fh.readlines()\n",
    "    lines = [x.strip() for x in lines]"
   ]
  },
  {
   "cell_type": "code",
   "execution_count": 25,
   "id": "8f5b62f1-95aa-418e-a65e-fc0aac9d7a46",
   "metadata": {},
   "outputs": [],
   "source": [
    "def get_start_marker(line):    \n",
    "    for index in range(14,len(line)):\n",
    "        buffer = line[index-14:index]\n",
    "        if debug:\n",
    "            print(buffer)\n",
    "        if(len(set(buffer)) == 4):\n",
    "            return index"
   ]
  },
  {
   "cell_type": "code",
   "execution_count": 26,
   "id": "3152c8a7-a54c-41d1-8955-6d7aa73f5a09",
   "metadata": {},
   "outputs": [
    {
     "name": "stdout",
     "output_type": "stream",
     "text": [
      "None\n",
      "None\n",
      "None\n",
      "None\n",
      "None\n"
     ]
    }
   ],
   "source": [
    "for line in lines:\n",
    "    print(get_start_marker(line))"
   ]
  },
  {
   "cell_type": "code",
   "execution_count": null,
   "id": "3b29d81d-2fea-4cbc-b02c-064848349eea",
   "metadata": {},
   "outputs": [],
   "source": []
  }
 ],
 "metadata": {
  "kernelspec": {
   "display_name": "Python 3 (ipykernel)",
   "language": "python",
   "name": "python3"
  },
  "language_info": {
   "codemirror_mode": {
    "name": "ipython",
    "version": 3
   },
   "file_extension": ".py",
   "mimetype": "text/x-python",
   "name": "python",
   "nbconvert_exporter": "python",
   "pygments_lexer": "ipython3",
   "version": "3.10.8"
  }
 },
 "nbformat": 4,
 "nbformat_minor": 5
}
