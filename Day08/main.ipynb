{
 "cells": [
  {
   "cell_type": "code",
   "execution_count": null,
   "id": "c5f16490-1343-46bd-9808-275d43a3d65c",
   "metadata": {},
   "outputs": [],
   "source": [
    "from pathlib import Path\n",
    "import numpy as np"
   ]
  },
  {
   "cell_type": "code",
   "execution_count": null,
   "id": "60ca5c4a-3f55-4938-9776-8d6492f232c8",
   "metadata": {},
   "outputs": [],
   "source": [
    "debug = False\n",
    "#input_file = Path(\"input_small.txt\")\n",
    "input_file = Path(\"input_big.txt\")\n",
    " \n",
    "with open(input_file, \"r\") as fh:\n",
    "    lines = fh.readlines()\n",
    "    lines = [line.strip() for line in lines]"
   ]
  },
  {
   "cell_type": "code",
   "execution_count": null,
   "id": "dcde8596-2bda-42f6-aa88-df18c029c646",
   "metadata": {},
   "outputs": [],
   "source": [
    "data = np.zeros((len(lines), len(lines)))\n",
    "for index_line, line in enumerate(lines):\n",
    "    for index_letter, letter in enumerate(line):\n",
    "        data[index_line][index_letter] = int(letter)       "
   ]
  },
  {
   "cell_type": "code",
   "execution_count": null,
   "id": "ac2e06e0-9306-4eee-9ae4-33dfe0809992",
   "metadata": {},
   "outputs": [],
   "source": [
    "def count_visible_trees(line, current_max_height = -1):\n",
    "    indices = np.zeros((len(line),))\n",
    "    for index, tree in enumerate(line):\n",
    "        if current_max_height < tree:\n",
    "            indices[index] = 1            \n",
    "            current_max_height = tree\n",
    "    if debug:\n",
    "        print(f\"Indices {indices} for line {line}\")\n",
    "    return indices"
   ]
  },
  {
   "cell_type": "code",
   "execution_count": null,
   "id": "21d7e91d-edb6-44ed-9386-36b939786670",
   "metadata": {},
   "outputs": [],
   "source": [
    "# part A\n",
    "visibility_matrix = np.zeros((len(lines),len(lines)))\n",
    "for i in range(len(lines)):\n",
    "    # left to right\n",
    "    visibility_matrix[i,:] += count_visible_trees(data[i,:])\n",
    "    # right to left\n",
    "    visibility_matrix[i,::-1] += count_visible_trees(data[i,::-1])\n",
    "    # top to bottom\n",
    "    visibility_matrix[:,i] += count_visible_trees(data[:,i])\n",
    "    # bottom to top\n",
    "    visibility_matrix[::-1,i] += count_visible_trees(data[::-1,i])\n",
    "\n",
    "if debug:\n",
    "    print(f\"Visibility matrix:\")\n",
    "    print(visibility_matrix)\n",
    "    \n",
    "visible_tree_count = np.sum(visibility_matrix > 0)\n",
    "print(f\"Total visible trees: {visible_tree_count}\")"
   ]
  },
  {
   "cell_type": "code",
   "execution_count": null,
   "id": "faf1db98-d99f-44f7-be2c-ebadb73b4cda",
   "metadata": {},
   "outputs": [],
   "source": [
    "# part B\n",
    "# iterate over every tree and check visibility lines for all four directions\n",
    "# method omits trees, which are smaller than bigger trees before, but should nevertheless count into view distance. Therefore the first occurence of value \"1\" denotes viewing distance"
   ]
  },
  {
   "cell_type": "code",
   "execution_count": null,
   "id": "cd5d614c-e833-432d-8b56-773d5130d5b2",
   "metadata": {},
   "outputs": [],
   "source": [
    "def get_scenic_factor(bool_line):\n",
    "    # 0 if len(bool_left) == 1 else np.argmax(bool_left[1:]) +1 if max(bool_left[1:]) > 0 else len(bool_left) - 1\n",
    "    result = 0\n",
    "    if len(bool_line) > 1:\n",
    "        # some higher tree (not padding) was found\n",
    "        if max(bool_line[1:]) > 0:\n",
    "            result = np.argmax(bool_line[1:]) + 1\n",
    "        # take distance to padding\n",
    "        else:        \n",
    "            result = len(bool_line[1:])\n",
    "    return result"
   ]
  },
  {
   "cell_type": "code",
   "execution_count": null,
   "id": "e8b1ee10-1108-453a-9d12-1dee0bfe544f",
   "metadata": {},
   "outputs": [],
   "source": [
    "scenic_score_max = 0\n",
    "for row in range(len(lines)):\n",
    "    for col in range(len(lines)):   \n",
    "        my_height = data[row,col]\n",
    "        # add artifical border, so that at least one True value is given in height comparison, so that argmax does not return index of first False\n",
    "        bool_left = data[row, col::-1] >= my_height\n",
    "        bool_right = data[row, col:] >= my_height\n",
    "        bool_below = data[row:, col] >= my_height\n",
    "        bool_above = data[row::-1, col] >= my_height\n",
    "        \n",
    "        left = get_scenic_factor(bool_left)\n",
    "        right = get_scenic_factor(bool_right)\n",
    "        above = get_scenic_factor(bool_above)\n",
    "        below = get_scenic_factor(bool_below)\n",
    "        \n",
    "        if debug:\n",
    "            print(f\"My height: {my_height}\")\n",
    "            print(f\"left: {left}\")\n",
    "            print(f\"right: {right}\")\n",
    "            print(f\"below: {below}\")\n",
    "            print(f\"above: {above}\")\n",
    "        scenic_score = left * right * above * below\n",
    "        if scenic_score > scenic_score_max:\n",
    "            scenic_score_max = scenic_score\n",
    "print(scenic_score_max)"
   ]
  },
  {
   "cell_type": "code",
   "execution_count": null,
   "id": "e15799e3-378e-4f62-89d7-9a3ec1fe2045",
   "metadata": {},
   "outputs": [],
   "source": []
  }
 ],
 "metadata": {
  "kernelspec": {
   "display_name": "Python 3 (ipykernel)",
   "language": "python",
   "name": "python3"
  },
  "language_info": {
   "codemirror_mode": {
    "name": "ipython",
    "version": 3
   },
   "file_extension": ".py",
   "mimetype": "text/x-python",
   "name": "python",
   "nbconvert_exporter": "python",
   "pygments_lexer": "ipython3",
   "version": "3.10.8"
  }
 },
 "nbformat": 4,
 "nbformat_minor": 5
}
