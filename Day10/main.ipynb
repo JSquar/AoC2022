{
 "cells": [
  {
   "cell_type": "code",
   "execution_count": null,
   "id": "c85acaf5-021a-46a3-a41a-e84f001c6c0d",
   "metadata": {},
   "outputs": [],
   "source": [
    "import logging\n",
    "from pathlib import Path\n",
    "\n",
    "logger = logging.getLogger(\"main\")\n",
    "logging.basicConfig()\n",
    "logger.setLevel(logging.DEBUG)"
   ]
  },
  {
   "cell_type": "code",
   "execution_count": null,
   "id": "590379c4-4353-494f-8d8e-e90a67a0b5c2",
   "metadata": {},
   "outputs": [],
   "source": [
    "#input_file=Path(\"input_small.txt\")\n",
    "input_file=Path(\"input_big.txt\")\n",
    "with open(input_file, \"r\") as fh:\n",
    "    lines=fh.readlines()\n",
    "    lines = [line.strip() for line in lines]"
   ]
  },
  {
   "cell_type": "code",
   "execution_count": null,
   "id": "1c82470a-ee1a-4c34-ba75-dc7970082403",
   "metadata": {},
   "outputs": [],
   "source": [
    "# Part A"
   ]
  },
  {
   "cell_type": "code",
   "execution_count": null,
   "id": "129d3d3e-75c5-43a0-ace8-f23118a14f9b",
   "metadata": {},
   "outputs": [],
   "source": [
    "x = 1\n",
    "cycles = list(range(20,len(lines)*2,40))\n",
    "signal = 0\n",
    "index = 0\n",
    "cycle = 1\n",
    "next_cycle = cycles[index]\n",
    "for line in lines:\n",
    "    if cycle >= next_cycle or (line != \"noop\" and cycle + 1 == next_cycle):\n",
    "        logger.debug(f\"Current line: {line}\")\n",
    "        logger.debug(f\"Cycle {cycle} add new signal {next_cycle}*{x}\")\n",
    "        signal += next_cycle * x\n",
    "        index += 1\n",
    "        next_cycle = cycles[index]        \n",
    "    if line != \"noop\":\n",
    "        number = int(line.split()[1])\n",
    "        x += number\n",
    "        cycle += 2\n",
    "    else:\n",
    "        cycle += 1    \n",
    "print(signal)"
   ]
  },
  {
   "cell_type": "code",
   "execution_count": null,
   "id": "8e6929cc-b215-4f86-a8c6-0f7e8caa44e5",
   "metadata": {},
   "outputs": [],
   "source": [
    " # Part B"
   ]
  },
  {
   "cell_type": "code",
   "execution_count": null,
   "id": "4b9cee03-8390-4e9d-9aa0-244260fe3fe7",
   "metadata": {},
   "outputs": [],
   "source": [
    "def print_char(cycle, x):\n",
    "    logger.debug(f\"Cycle {cycle}, x {x}\")\n",
    "    if cycle in [x-1, x, x+1]:\n",
    "        print(\"#\", end=\"\")\n",
    "    else:\n",
    "        print(\".\", end=\"\")\n",
    "    if (cycle + 1) % 40 == 0:        \n",
    "        print()\n",
    "    cycle += 1\n",
    "    if cycle == 40:\n",
    "        cycle = 0\n",
    "    return cycle\n",
    "\n",
    "cycle = 0\n",
    "index = 0\n",
    "x = 1\n",
    "skip=False\n",
    "for row in range(6):\n",
    "    for column in range(40):        \n",
    "        if skip:\n",
    "            skip = False\n",
    "            continue\n",
    "        if lines[index] == \"noop\":\n",
    "            cycle = print_char(cycle,x)            \n",
    "        else:\n",
    "            cycle = print_char(cycle,x)\n",
    "            cycle = print_char(cycle,x)   \n",
    "            skip=True\n",
    "            x += int(lines[index].split()[1])\n",
    "        if index < len(lines) - 1:\n",
    "            index+=1\n",
    "        "
   ]
  }
 ],
 "metadata": {
  "kernelspec": {
   "display_name": "Python 3 (ipykernel)",
   "language": "python",
   "name": "python3"
  },
  "language_info": {
   "codemirror_mode": {
    "name": "ipython",
    "version": 3
   },
   "file_extension": ".py",
   "mimetype": "text/x-python",
   "name": "python",
   "nbconvert_exporter": "python",
   "pygments_lexer": "ipython3",
   "version": "3.10.8"
  }
 },
 "nbformat": 4,
 "nbformat_minor": 5
}
