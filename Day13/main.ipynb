{
 "cells": [
  {
   "cell_type": "code",
   "execution_count": null,
   "metadata": {},
   "outputs": [],
   "source": [
    "import logging\n",
    "from pathlib import Path\n",
    "import ast\n",
    "\n",
    "logging.basicConfig()\n",
    "logger = logging.getLogger()\n",
    "logger.setLevel(logging.DEBUG)"
   ]
  },
  {
   "cell_type": "code",
   "execution_count": null,
   "metadata": {},
   "outputs": [],
   "source": [
    "#inputfile = Path(\"input_small.txt\")\n",
    "inputfile = Path(\"input_big.txt\")\n",
    "\n",
    "with open(inputfile) as fh:\n",
    "  lines = [line.strip() for line in fh.readlines()]"
   ]
  },
  {
   "cell_type": "code",
   "execution_count": null,
   "metadata": {},
   "outputs": [],
   "source": [
    "pairs = []\n",
    "\n",
    "for index in range(0,len(lines),3):\n",
    "  left = ast.literal_eval(lines[index])\n",
    "  right = ast.literal_eval(lines[index +1 ])\n",
    "  pairs.append((left, right))\n",
    "  "
   ]
  },
  {
   "cell_type": "code",
   "execution_count": null,
   "metadata": {},
   "outputs": [],
   "source": [
    "def compare(left, right):\n",
    "  logger.debug(f\"Compare {left} with {right}\")\n",
    "  if type(left) != type(right):\n",
    "    if isinstance(left, int):\n",
    "      logger.debug(f\"Convert {left} to {[left]}\")\n",
    "      left = [left]\n",
    "    else:      \n",
    "      logger.debug(f\"Convert {right} to {[right]}\")\n",
    "      right = [right]\n",
    "    return compare(left, right)\n",
    "  print(f\"left {left} has type {type(left)}\")\n",
    "  print(f\"right {right} has type {type(right)}\")\n",
    "  if left < right:\n",
    "    logger.debug(f\"{left} is smaller than {right}\")\n",
    "    return 1\n",
    "  elif left > right:\n",
    "    logger.debug(f\"{left} is bigger than {right}\")\n",
    "    return -1\n",
    "  else:\n",
    "    logger.debug(f\"{left} is equal {right}\")\n",
    "    return 0\n"
   ]
  },
  {
   "cell_type": "code",
   "execution_count": null,
   "metadata": {},
   "outputs": [],
   "source": [
    "def compare2(left, right):\n",
    "  if isinstance(left, int) and isinstance(right, int):\n",
    "    if left < right:\n",
    "      logger.debug(f\"{left} is smaller than {right}\")\n",
    "      return 1\n",
    "    elif left > right:\n",
    "      logger.debug(f\"{left} is bigger than {right}\")\n",
    "      return -1\n",
    "    else:\n",
    "      logger.debug(f\"{left} is equal {right}\")\n",
    "      return 0\n",
    "  #some conversion needs to be done\n",
    "  else:\n",
    "    if isinstance(left, int):\n",
    "      left = [left]\n",
    "    if isinstance(right, int):\n",
    "      right = [right]\n",
    "    min_end = min(len(left), len(right))\n",
    "    for index in range(min_end):\n",
    "      result = compare2(left[index], right[index])\n",
    "      if result != 0:\n",
    "        return result\n",
    "    if len(left) < len(right):\n",
    "      return 1\n",
    "    elif len(right) < len(left):\n",
    "      return -1\n",
    "    else:\n",
    "      return 0\n"
   ]
  },
  {
   "cell_type": "code",
   "execution_count": null,
   "metadata": {},
   "outputs": [],
   "source": [
    "# part A\n",
    "indices_right_order = []\n",
    "for index_pair,pair in enumerate(pairs):\n",
    "  logger.debug(f\"Current pair: {pair}\")\n",
    "  was_compared = False\n",
    "  for index in range(len(pair[0])):    \n",
    "    # if comparison was not successful yet and right element is empty, then left is NOT smaller than right\n",
    "    if index == len(pair[1]):\n",
    "      logger.debug(f\"No more elements available in {right} for comparison\")\n",
    "      result = -1\n",
    "      was_compared = True\n",
    "      break\n",
    "    else:\n",
    "      result = compare2(pair[0][index], pair[1][index])\n",
    "    if result == 1:\n",
    "      logger.debug(f\"Stop comparison: {pair[0][index]} is smaller than {pair[1][index]}\")\n",
    "      indices_right_order.append(index_pair + 1)\n",
    "      was_compared = True\n",
    "      break\n",
    "    elif result == -1:\n",
    "      logger.debug(f\"Stop comparison: {pair[0][index]} is NOT smaller than {pair[1][index]}\")\n",
    "      was_compared = True\n",
    "      break\n",
    "  if not was_compared:\n",
    "    logger.debug(\"No comparison case was hit, {left} is therefore smaller than {right}\")\n",
    "    indices_right_order.append(index_pair + 1)\n",
    "  logger.debug(\"\")\n",
    "\n",
    "logger.info(indices_right_order)"
   ]
  },
  {
   "cell_type": "code",
   "execution_count": null,
   "metadata": {},
   "outputs": [],
   "source": [
    "sum(indices_right_order)"
   ]
  },
  {
   "cell_type": "code",
   "execution_count": null,
   "metadata": {},
   "outputs": [],
   "source": []
  }
 ],
 "metadata": {
  "kernelspec": {
   "display_name": "Python 3",
   "language": "python",
   "name": "python3"
  },
  "language_info": {
   "codemirror_mode": {
    "name": "ipython",
    "version": 3
   },
   "file_extension": ".py",
   "mimetype": "text/x-python",
   "name": "python",
   "nbconvert_exporter": "python",
   "pygments_lexer": "ipython3",
   "version": "3.10.8"
  },
  "vscode": {
   "interpreter": {
    "hash": "767d51c1340bd893661ea55ea3124f6de3c7a262a8b4abca0554b478b1e2ff90"
   }
  }
 },
 "nbformat": 4,
 "nbformat_minor": 2
}
